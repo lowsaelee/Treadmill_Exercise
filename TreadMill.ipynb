{
 "cells": [
  {
   "cell_type": "markdown",
   "metadata": {},
   "source": [
    "# Treadmill Exercise Data Analysis"
   ]
  },
  {
   "cell_type": "markdown",
   "metadata": {},
   "source": [
    "Importing required packages"
   ]
  },
  {
   "cell_type": "code",
   "execution_count": 1,
   "metadata": {},
   "outputs": [],
   "source": [
    "import pandas as pd\n",
    "import numpy as np\n",
    "import matplotlib.pyplot as plt\n",
    "from sklearn.linear_model import LinearRegression\n",
    "from sklearn.metrics import r2_score"
   ]
  },
  {
   "cell_type": "markdown",
   "metadata": {},
   "source": [
    "Reading data into dataframe"
   ]
  },
  {
   "cell_type": "code",
   "execution_count": 2,
   "metadata": {},
   "outputs": [],
   "source": [
    "df = pd.read_csv(\"TreadmillExercise.csv\")"
   ]
  },
  {
   "cell_type": "markdown",
   "metadata": {},
   "source": [
    "Show head of dataframe"
   ]
  },
  {
   "cell_type": "code",
   "execution_count": 3,
   "metadata": {},
   "outputs": [
    {
     "data": {
      "text/html": [
       "<div>\n",
       "<style scoped>\n",
       "    .dataframe tbody tr th:only-of-type {\n",
       "        vertical-align: middle;\n",
       "    }\n",
       "\n",
       "    .dataframe tbody tr th {\n",
       "        vertical-align: top;\n",
       "    }\n",
       "\n",
       "    .dataframe thead th {\n",
       "        text-align: right;\n",
       "    }\n",
       "</style>\n",
       "<table border=\"1\" class=\"dataframe\">\n",
       "  <thead>\n",
       "    <tr style=\"text-align: right;\">\n",
       "      <th></th>\n",
       "      <th>Date</th>\n",
       "      <th>Miles</th>\n",
       "      <th>Speed</th>\n",
       "      <th>Steps0</th>\n",
       "      <th>Steps1</th>\n",
       "      <th>TotalSteps</th>\n",
       "      <th>Steps/Mile</th>\n",
       "      <th>Calories</th>\n",
       "      <th>Weight</th>\n",
       "    </tr>\n",
       "  </thead>\n",
       "  <tbody>\n",
       "    <tr>\n",
       "      <th>0</th>\n",
       "      <td>03/28/20</td>\n",
       "      <td>2</td>\n",
       "      <td>3</td>\n",
       "      <td>324</td>\n",
       "      <td>5089.00</td>\n",
       "      <td>4765</td>\n",
       "      <td>2382.25</td>\n",
       "      <td>170</td>\n",
       "      <td>NaN</td>\n",
       "    </tr>\n",
       "    <tr>\n",
       "      <th>1</th>\n",
       "      <td>03/28/20</td>\n",
       "      <td>3</td>\n",
       "      <td>2</td>\n",
       "      <td>5289</td>\n",
       "      <td>13786.02</td>\n",
       "      <td>8497</td>\n",
       "      <td>2832.34</td>\n",
       "      <td>255</td>\n",
       "      <td>153.0</td>\n",
       "    </tr>\n",
       "    <tr>\n",
       "      <th>2</th>\n",
       "      <td>03/29/20</td>\n",
       "      <td>2</td>\n",
       "      <td>2</td>\n",
       "      <td>257</td>\n",
       "      <td>5845.00</td>\n",
       "      <td>5588</td>\n",
       "      <td>2794.00</td>\n",
       "      <td>170</td>\n",
       "      <td>NaN</td>\n",
       "    </tr>\n",
       "    <tr>\n",
       "      <th>3</th>\n",
       "      <td>03/29/20</td>\n",
       "      <td>6</td>\n",
       "      <td>2</td>\n",
       "      <td>6683</td>\n",
       "      <td>23575.00</td>\n",
       "      <td>16892</td>\n",
       "      <td>2815.33</td>\n",
       "      <td>510</td>\n",
       "      <td>150.0</td>\n",
       "    </tr>\n",
       "    <tr>\n",
       "      <th>4</th>\n",
       "      <td>03/30/20</td>\n",
       "      <td>3</td>\n",
       "      <td>2</td>\n",
       "      <td>280</td>\n",
       "      <td>8787.00</td>\n",
       "      <td>8507</td>\n",
       "      <td>2835.67</td>\n",
       "      <td>255</td>\n",
       "      <td>NaN</td>\n",
       "    </tr>\n",
       "  </tbody>\n",
       "</table>\n",
       "</div>"
      ],
      "text/plain": [
       "       Date  Miles  Speed  Steps0    Steps1  TotalSteps  Steps/Mile  Calories  \\\n",
       "0  03/28/20      2      3     324   5089.00        4765     2382.25       170   \n",
       "1  03/28/20      3      2    5289  13786.02        8497     2832.34       255   \n",
       "2  03/29/20      2      2     257   5845.00        5588     2794.00       170   \n",
       "3  03/29/20      6      2    6683  23575.00       16892     2815.33       510   \n",
       "4  03/30/20      3      2     280   8787.00        8507     2835.67       255   \n",
       "\n",
       "   Weight  \n",
       "0     NaN  \n",
       "1   153.0  \n",
       "2     NaN  \n",
       "3   150.0  \n",
       "4     NaN  "
      ]
     },
     "execution_count": 3,
     "metadata": {},
     "output_type": "execute_result"
    }
   ],
   "source": [
    "df.head()"
   ]
  },
  {
   "cell_type": "markdown",
   "metadata": {},
   "source": [
    "Show shape of dataframe"
   ]
  },
  {
   "cell_type": "code",
   "execution_count": 4,
   "metadata": {},
   "outputs": [
    {
     "data": {
      "text/plain": [
       "(193, 9)"
      ]
     },
     "execution_count": 4,
     "metadata": {},
     "output_type": "execute_result"
    }
   ],
   "source": [
    "df.shape"
   ]
  },
  {
   "cell_type": "markdown",
   "metadata": {},
   "source": [
    "Getting basic stats on dataframe"
   ]
  },
  {
   "cell_type": "code",
   "execution_count": 5,
   "metadata": {},
   "outputs": [
    {
     "data": {
      "text/html": [
       "<div>\n",
       "<style scoped>\n",
       "    .dataframe tbody tr th:only-of-type {\n",
       "        vertical-align: middle;\n",
       "    }\n",
       "\n",
       "    .dataframe tbody tr th {\n",
       "        vertical-align: top;\n",
       "    }\n",
       "\n",
       "    .dataframe thead th {\n",
       "        text-align: right;\n",
       "    }\n",
       "</style>\n",
       "<table border=\"1\" class=\"dataframe\">\n",
       "  <thead>\n",
       "    <tr style=\"text-align: right;\">\n",
       "      <th></th>\n",
       "      <th>Miles</th>\n",
       "      <th>Speed</th>\n",
       "      <th>Steps0</th>\n",
       "      <th>Steps1</th>\n",
       "      <th>TotalSteps</th>\n",
       "      <th>Steps/Mile</th>\n",
       "      <th>Calories</th>\n",
       "      <th>Weight</th>\n",
       "    </tr>\n",
       "  </thead>\n",
       "  <tbody>\n",
       "    <tr>\n",
       "      <th>count</th>\n",
       "      <td>193.000000</td>\n",
       "      <td>193.000000</td>\n",
       "      <td>193.000000</td>\n",
       "      <td>193.000000</td>\n",
       "      <td>193.000000</td>\n",
       "      <td>193.000000</td>\n",
       "      <td>193.000000</td>\n",
       "      <td>109.000000</td>\n",
       "    </tr>\n",
       "    <tr>\n",
       "      <th>mean</th>\n",
       "      <td>3.725389</td>\n",
       "      <td>2.196891</td>\n",
       "      <td>7708.994819</td>\n",
       "      <td>18499.570052</td>\n",
       "      <td>10790.575130</td>\n",
       "      <td>2885.957617</td>\n",
       "      <td>316.658031</td>\n",
       "      <td>132.004587</td>\n",
       "    </tr>\n",
       "    <tr>\n",
       "      <th>std</th>\n",
       "      <td>1.879779</td>\n",
       "      <td>0.492221</td>\n",
       "      <td>9249.900160</td>\n",
       "      <td>10290.611722</td>\n",
       "      <td>5608.122897</td>\n",
       "      <td>386.684188</td>\n",
       "      <td>159.781254</td>\n",
       "      <td>8.589263</td>\n",
       "    </tr>\n",
       "    <tr>\n",
       "      <th>min</th>\n",
       "      <td>0.000000</td>\n",
       "      <td>0.000000</td>\n",
       "      <td>0.000000</td>\n",
       "      <td>0.000000</td>\n",
       "      <td>0.000000</td>\n",
       "      <td>0.000000</td>\n",
       "      <td>0.000000</td>\n",
       "      <td>119.500000</td>\n",
       "    </tr>\n",
       "    <tr>\n",
       "      <th>25%</th>\n",
       "      <td>2.000000</td>\n",
       "      <td>2.000000</td>\n",
       "      <td>868.000000</td>\n",
       "      <td>10881.000000</td>\n",
       "      <td>6568.000000</td>\n",
       "      <td>2826.330000</td>\n",
       "      <td>170.000000</td>\n",
       "      <td>124.500000</td>\n",
       "    </tr>\n",
       "    <tr>\n",
       "      <th>50%</th>\n",
       "      <td>3.000000</td>\n",
       "      <td>2.000000</td>\n",
       "      <td>3802.000000</td>\n",
       "      <td>16577.000000</td>\n",
       "      <td>9280.000000</td>\n",
       "      <td>2933.670000</td>\n",
       "      <td>255.000000</td>\n",
       "      <td>131.000000</td>\n",
       "    </tr>\n",
       "    <tr>\n",
       "      <th>75%</th>\n",
       "      <td>5.000000</td>\n",
       "      <td>2.000000</td>\n",
       "      <td>11529.000000</td>\n",
       "      <td>24071.000000</td>\n",
       "      <td>13997.000000</td>\n",
       "      <td>3069.500000</td>\n",
       "      <td>425.000000</td>\n",
       "      <td>138.000000</td>\n",
       "    </tr>\n",
       "    <tr>\n",
       "      <th>max</th>\n",
       "      <td>10.000000</td>\n",
       "      <td>5.000000</td>\n",
       "      <td>55712.000000</td>\n",
       "      <td>71367.000000</td>\n",
       "      <td>31402.000000</td>\n",
       "      <td>3952.500000</td>\n",
       "      <td>850.000000</td>\n",
       "      <td>153.000000</td>\n",
       "    </tr>\n",
       "  </tbody>\n",
       "</table>\n",
       "</div>"
      ],
      "text/plain": [
       "            Miles       Speed        Steps0        Steps1    TotalSteps  \\\n",
       "count  193.000000  193.000000    193.000000    193.000000    193.000000   \n",
       "mean     3.725389    2.196891   7708.994819  18499.570052  10790.575130   \n",
       "std      1.879779    0.492221   9249.900160  10290.611722   5608.122897   \n",
       "min      0.000000    0.000000      0.000000      0.000000      0.000000   \n",
       "25%      2.000000    2.000000    868.000000  10881.000000   6568.000000   \n",
       "50%      3.000000    2.000000   3802.000000  16577.000000   9280.000000   \n",
       "75%      5.000000    2.000000  11529.000000  24071.000000  13997.000000   \n",
       "max     10.000000    5.000000  55712.000000  71367.000000  31402.000000   \n",
       "\n",
       "        Steps/Mile    Calories      Weight  \n",
       "count   193.000000  193.000000  109.000000  \n",
       "mean   2885.957617  316.658031  132.004587  \n",
       "std     386.684188  159.781254    8.589263  \n",
       "min       0.000000    0.000000  119.500000  \n",
       "25%    2826.330000  170.000000  124.500000  \n",
       "50%    2933.670000  255.000000  131.000000  \n",
       "75%    3069.500000  425.000000  138.000000  \n",
       "max    3952.500000  850.000000  153.000000  "
      ]
     },
     "execution_count": 5,
     "metadata": {},
     "output_type": "execute_result"
    }
   ],
   "source": [
    "df.describe()"
   ]
  },
  {
   "cell_type": "markdown",
   "metadata": {},
   "source": [
    "Total miles and steps walked, calories burned, and weight loss since starting"
   ]
  },
  {
   "cell_type": "code",
   "execution_count": 6,
   "metadata": {},
   "outputs": [
    {
     "name": "stdout",
     "output_type": "stream",
     "text": [
      "Total miles walked: 719\n",
      "Total steps walked: 2,082,581\n",
      "Total calories burned: 61,115\n",
      "Total weight loss: 32.0 lbs\n"
     ]
    }
   ],
   "source": [
    "totalMilesWalked = df['Miles'].sum()\n",
    "totalStepsWalked = df['TotalSteps'].sum()\n",
    "totalCaloriesBurned = df['Calories'].sum()\n",
    "totalWeightLoss = df['Weight'].max() - df['Weight'][len(df)-1]\n",
    "\n",
    "print('Total miles walked: {}'.format(totalMilesWalked))\n",
    "print('Total steps walked: {:,}'.format(totalStepsWalked))\n",
    "print('Total calories burned: {:,}'.format(totalCaloriesBurned))\n",
    "print('Total weight loss: {} lbs'.format(totalWeightLoss))"
   ]
  },
  {
   "cell_type": "markdown",
   "metadata": {},
   "source": [
    "Creating new dataframe of total steps per day"
   ]
  },
  {
   "cell_type": "code",
   "execution_count": 7,
   "metadata": {},
   "outputs": [
    {
     "data": {
      "text/html": [
       "<div>\n",
       "<style scoped>\n",
       "    .dataframe tbody tr th:only-of-type {\n",
       "        vertical-align: middle;\n",
       "    }\n",
       "\n",
       "    .dataframe tbody tr th {\n",
       "        vertical-align: top;\n",
       "    }\n",
       "\n",
       "    .dataframe thead th {\n",
       "        text-align: right;\n",
       "    }\n",
       "</style>\n",
       "<table border=\"1\" class=\"dataframe\">\n",
       "  <thead>\n",
       "    <tr style=\"text-align: right;\">\n",
       "      <th></th>\n",
       "      <th>Date</th>\n",
       "      <th>TotalSteps</th>\n",
       "    </tr>\n",
       "  </thead>\n",
       "  <tbody>\n",
       "    <tr>\n",
       "      <th>0</th>\n",
       "      <td>03/28/20</td>\n",
       "      <td>13262</td>\n",
       "    </tr>\n",
       "    <tr>\n",
       "      <th>1</th>\n",
       "      <td>03/29/20</td>\n",
       "      <td>22480</td>\n",
       "    </tr>\n",
       "    <tr>\n",
       "      <th>2</th>\n",
       "      <td>03/30/20</td>\n",
       "      <td>24780</td>\n",
       "    </tr>\n",
       "    <tr>\n",
       "      <th>3</th>\n",
       "      <td>03/31/20</td>\n",
       "      <td>18322</td>\n",
       "    </tr>\n",
       "    <tr>\n",
       "      <th>4</th>\n",
       "      <td>04/01/20</td>\n",
       "      <td>26336</td>\n",
       "    </tr>\n",
       "    <tr>\n",
       "      <th>...</th>\n",
       "      <td>...</td>\n",
       "      <td>...</td>\n",
       "    </tr>\n",
       "    <tr>\n",
       "      <th>104</th>\n",
       "      <td>07/10/20</td>\n",
       "      <td>8733</td>\n",
       "    </tr>\n",
       "    <tr>\n",
       "      <th>105</th>\n",
       "      <td>07/11/20</td>\n",
       "      <td>5865</td>\n",
       "    </tr>\n",
       "    <tr>\n",
       "      <th>106</th>\n",
       "      <td>07/12/20</td>\n",
       "      <td>17728</td>\n",
       "    </tr>\n",
       "    <tr>\n",
       "      <th>107</th>\n",
       "      <td>07/13/20</td>\n",
       "      <td>14951</td>\n",
       "    </tr>\n",
       "    <tr>\n",
       "      <th>108</th>\n",
       "      <td>07/14/20</td>\n",
       "      <td>7369</td>\n",
       "    </tr>\n",
       "  </tbody>\n",
       "</table>\n",
       "<p>109 rows × 2 columns</p>\n",
       "</div>"
      ],
      "text/plain": [
       "         Date  TotalSteps\n",
       "0    03/28/20       13262\n",
       "1    03/29/20       22480\n",
       "2    03/30/20       24780\n",
       "3    03/31/20       18322\n",
       "4    04/01/20       26336\n",
       "..        ...         ...\n",
       "104  07/10/20        8733\n",
       "105  07/11/20        5865\n",
       "106  07/12/20       17728\n",
       "107  07/13/20       14951\n",
       "108  07/14/20        7369\n",
       "\n",
       "[109 rows x 2 columns]"
      ]
     },
     "execution_count": 7,
     "metadata": {},
     "output_type": "execute_result"
    }
   ],
   "source": [
    "df_totalSteps = df.groupby('Date', as_index=False)['TotalSteps'].sum()\n",
    "\n",
    "df_totalSteps"
   ]
  },
  {
   "cell_type": "markdown",
   "metadata": {},
   "source": [
    "Bar char of total steps per day"
   ]
  },
  {
   "cell_type": "code",
   "execution_count": 8,
   "metadata": {},
   "outputs": [
    {
     "data": {
      "image/png": "[encoded data removed]",
      "text/plain": [
       "<Figure size 432x288 with 1 Axes>"
      ]
     },
     "metadata": {
      "needs_background": "light"
     },
     "output_type": "display_data"
    }
   ],
   "source": [
    "plt.bar(df_totalSteps['Date'],df_totalSteps['TotalSteps'])\n",
    "plt.title(\"Total Steps Per Day\")\n",
    "plt.ylabel(\"Total Steps\")\n",
    "plt.xlabel(\"Date\")\n",
    "plt.xticks(np.arange(0, len(df_totalSteps), step=5))\n",
    "plt.xticks(rotation=90);"
   ]
  },
  {
   "cell_type": "markdown",
   "metadata": {},
   "source": [
    "Running total steps"
   ]
  },
  {
   "cell_type": "code",
   "execution_count": 9,
   "metadata": {},
   "outputs": [
    {
     "data": {
      "text/plain": [
       "Text(0, 0.5, 'Total Steps (Hundred thousands)')"
      ]
     },
     "execution_count": 9,
     "metadata": {},
     "output_type": "execute_result"
    },
    {
     "data": {
      "image/png": "[encoded data removed]",
      "text/plain": [
       "<Figure size 432x288 with 1 Axes>"
      ]
     },
     "metadata": {
      "needs_background": "light"
     },
     "output_type": "display_data"
    }
   ],
   "source": [
    "running_total_steps = []\n",
    "running_total_steps_date = []\n",
    "for i in range(len(df_totalSteps)):\n",
    "    if df_totalSteps['TotalSteps'][0:i].sum() != 0:\n",
    "        running_total_steps.append(df_totalSteps['TotalSteps'][0:i].sum())\n",
    "        running_total_steps_date.append(df_totalSteps['Date'][i])\n",
    "\n",
    "df_running_total_steps = pd.DataFrame({'Date':running_total_steps_date,'Running_Total_Steps':running_total_steps})\n",
    "\n",
    "plt.plot(df_running_total_steps['Date'],(df_running_total_steps['Running_Total_Steps']/100000))\n",
    "plt.title(\"Running Total Steps\")\n",
    "plt.xticks(rotation=90)\n",
    "plt.xticks(np.arange(0, len(df_running_total_steps), step=5))\n",
    "plt.ylabel(\"Total Steps (Hundred thousands)\")"
   ]
  },
  {
   "cell_type": "markdown",
   "metadata": {},
   "source": [
    "Create dataframe for total Miles per day"
   ]
  },
  {
   "cell_type": "code",
   "execution_count": 10,
   "metadata": {},
   "outputs": [
    {
     "data": {
      "text/html": [
       "<div>\n",
       "<style scoped>\n",
       "    .dataframe tbody tr th:only-of-type {\n",
       "        vertical-align: middle;\n",
       "    }\n",
       "\n",
       "    .dataframe tbody tr th {\n",
       "        vertical-align: top;\n",
       "    }\n",
       "\n",
       "    .dataframe thead th {\n",
       "        text-align: right;\n",
       "    }\n",
       "</style>\n",
       "<table border=\"1\" class=\"dataframe\">\n",
       "  <thead>\n",
       "    <tr style=\"text-align: right;\">\n",
       "      <th></th>\n",
       "      <th>Date</th>\n",
       "      <th>Miles</th>\n",
       "    </tr>\n",
       "  </thead>\n",
       "  <tbody>\n",
       "    <tr>\n",
       "      <th>95</th>\n",
       "      <td>07/01/20</td>\n",
       "      <td>4</td>\n",
       "    </tr>\n",
       "    <tr>\n",
       "      <th>96</th>\n",
       "      <td>07/02/20</td>\n",
       "      <td>2</td>\n",
       "    </tr>\n",
       "    <tr>\n",
       "      <th>97</th>\n",
       "      <td>07/03/20</td>\n",
       "      <td>7</td>\n",
       "    </tr>\n",
       "    <tr>\n",
       "      <th>98</th>\n",
       "      <td>07/04/20</td>\n",
       "      <td>6</td>\n",
       "    </tr>\n",
       "    <tr>\n",
       "      <th>99</th>\n",
       "      <td>07/05/20</td>\n",
       "      <td>8</td>\n",
       "    </tr>\n",
       "    <tr>\n",
       "      <th>100</th>\n",
       "      <td>07/06/20</td>\n",
       "      <td>3</td>\n",
       "    </tr>\n",
       "    <tr>\n",
       "      <th>101</th>\n",
       "      <td>07/07/20</td>\n",
       "      <td>5</td>\n",
       "    </tr>\n",
       "    <tr>\n",
       "      <th>102</th>\n",
       "      <td>07/08/20</td>\n",
       "      <td>10</td>\n",
       "    </tr>\n",
       "    <tr>\n",
       "      <th>103</th>\n",
       "      <td>07/09/20</td>\n",
       "      <td>5</td>\n",
       "    </tr>\n",
       "    <tr>\n",
       "      <th>104</th>\n",
       "      <td>07/10/20</td>\n",
       "      <td>3</td>\n",
       "    </tr>\n",
       "    <tr>\n",
       "      <th>105</th>\n",
       "      <td>07/11/20</td>\n",
       "      <td>2</td>\n",
       "    </tr>\n",
       "    <tr>\n",
       "      <th>106</th>\n",
       "      <td>07/12/20</td>\n",
       "      <td>6</td>\n",
       "    </tr>\n",
       "    <tr>\n",
       "      <th>107</th>\n",
       "      <td>07/13/20</td>\n",
       "      <td>4</td>\n",
       "    </tr>\n",
       "    <tr>\n",
       "      <th>108</th>\n",
       "      <td>07/14/20</td>\n",
       "      <td>2</td>\n",
       "    </tr>\n",
       "  </tbody>\n",
       "</table>\n",
       "</div>"
      ],
      "text/plain": [
       "         Date  Miles\n",
       "95   07/01/20      4\n",
       "96   07/02/20      2\n",
       "97   07/03/20      7\n",
       "98   07/04/20      6\n",
       "99   07/05/20      8\n",
       "100  07/06/20      3\n",
       "101  07/07/20      5\n",
       "102  07/08/20     10\n",
       "103  07/09/20      5\n",
       "104  07/10/20      3\n",
       "105  07/11/20      2\n",
       "106  07/12/20      6\n",
       "107  07/13/20      4\n",
       "108  07/14/20      2"
      ]
     },
     "execution_count": 10,
     "metadata": {},
     "output_type": "execute_result"
    }
   ],
   "source": [
    "df_totalMiles = df.groupby('Date', as_index=False)['Miles'].sum()\n",
    "\n",
    "df_totalMiles[95:]"
   ]
  },
  {
   "cell_type": "markdown",
   "metadata": {},
   "source": [
    "Bar chart of total miles per day"
   ]
  },
  {
   "cell_type": "code",
   "execution_count": 11,
   "metadata": {},
   "outputs": [
    {
     "name": "stdout",
     "output_type": "stream",
     "text": [
      "6.60 miles on average per day\n"
     ]
    },
    {
     "data": {
      "image/png": "[encoded data removed]",
      "text/plain": [
       "<Figure size 432x288 with 1 Axes>"
      ]
     },
     "metadata": {
      "needs_background": "light"
     },
     "output_type": "display_data"
    }
   ],
   "source": [
    "aveMiles = df_totalMiles['Miles'].mean()\n",
    "print(\"{0:0.2f} miles on average per day\".format(aveMiles))\n",
    "\n",
    "plt.bar(df_totalSteps['Date'],df_totalMiles['Miles'])\n",
    "plt.title(\"Total Miles Per Day\")\n",
    "plt.ylabel(\"Total Miles\")\n",
    "plt.xlabel(\"Date\")\n",
    "plt.xticks(np.arange(0, len(df_totalSteps), step=10))\n",
    "plt.xticks(rotation=90);"
   ]
  },
  {
   "cell_type": "markdown",
   "metadata": {},
   "source": [
    "Average Total Miles for this month"
   ]
  },
  {
   "cell_type": "code",
   "execution_count": 12,
   "metadata": {},
   "outputs": [
    {
     "name": "stdout",
     "output_type": "stream",
     "text": [
      "7.67 miles on average per day for March\n",
      "8.45 miles on average per day for April\n",
      "6.31 miles on average per day for May\n",
      "5.76 miles on average per day for June\n",
      "4.79 miles on average per day for July\n"
     ]
    }
   ],
   "source": [
    "aveMilesMarch = df_totalMiles['Miles'][:3].mean()\n",
    "print(\"{0:0.2f} miles on average per day for March\".format(aveMilesMarch))\n",
    "\n",
    "aveMilesApril = df_totalMiles['Miles'][4:33].mean()\n",
    "print(\"{0:0.2f} miles on average per day for April\".format(aveMilesApril))\n",
    "\n",
    "aveMilesMay = df_totalMiles['Miles'][35:64].mean()\n",
    "print(\"{0:0.2f} miles on average per day for May\".format(aveMilesMay))\n",
    "\n",
    "aveMilesJune = df_totalMiles['Miles'][65:94].mean()\n",
    "print(\"{0:0.2f} miles on average per day for June\".format(aveMilesJune))\n",
    "\n",
    "aveMilesJuly = df_totalMiles['Miles'][95:].mean()\n",
    "print(\"{0:0.2f} miles on average per day for July\".format(aveMilesJuly))"
   ]
  },
  {
   "cell_type": "code",
   "execution_count": 13,
   "metadata": {},
   "outputs": [
    {
     "data": {
      "text/html": [
       "<div>\n",
       "<style scoped>\n",
       "    .dataframe tbody tr th:only-of-type {\n",
       "        vertical-align: middle;\n",
       "    }\n",
       "\n",
       "    .dataframe tbody tr th {\n",
       "        vertical-align: top;\n",
       "    }\n",
       "\n",
       "    .dataframe thead th {\n",
       "        text-align: right;\n",
       "    }\n",
       "</style>\n",
       "<table border=\"1\" class=\"dataframe\">\n",
       "  <thead>\n",
       "    <tr style=\"text-align: right;\">\n",
       "      <th></th>\n",
       "      <th>Month</th>\n",
       "      <th>Miles</th>\n",
       "    </tr>\n",
       "  </thead>\n",
       "  <tbody>\n",
       "    <tr>\n",
       "      <th>0</th>\n",
       "      <td>March</td>\n",
       "      <td>7.666667</td>\n",
       "    </tr>\n",
       "    <tr>\n",
       "      <th>1</th>\n",
       "      <td>April</td>\n",
       "      <td>8.448276</td>\n",
       "    </tr>\n",
       "    <tr>\n",
       "      <th>2</th>\n",
       "      <td>May</td>\n",
       "      <td>6.310345</td>\n",
       "    </tr>\n",
       "    <tr>\n",
       "      <th>3</th>\n",
       "      <td>June</td>\n",
       "      <td>5.758621</td>\n",
       "    </tr>\n",
       "    <tr>\n",
       "      <th>4</th>\n",
       "      <td>July</td>\n",
       "      <td>4.785714</td>\n",
       "    </tr>\n",
       "  </tbody>\n",
       "</table>\n",
       "</div>"
      ],
      "text/plain": [
       "   Month     Miles\n",
       "0  March  7.666667\n",
       "1  April  8.448276\n",
       "2    May  6.310345\n",
       "3   June  5.758621\n",
       "4   July  4.785714"
      ]
     },
     "execution_count": 13,
     "metadata": {},
     "output_type": "execute_result"
    }
   ],
   "source": [
    "months = [\"March\",\"April\",\"May\",\"June\",\"July\"]\n",
    "aveMilesPerMonth = [aveMilesMarch,aveMilesApril,aveMilesMay,aveMilesJune,aveMilesJuly]\n",
    "df_monthlyAve = pd.DataFrame({'Month':months,'Miles':aveMilesPerMonth})\n",
    "df_monthlyAve"
   ]
  },
  {
   "cell_type": "code",
   "execution_count": 14,
   "metadata": {},
   "outputs": [
    {
     "data": {
      "text/plain": [
       "<BarContainer object of 5 artists>"
      ]
     },
     "execution_count": 14,
     "metadata": {},
     "output_type": "execute_result"
    },
    {
     "data": {
      "image/png": "[encoded data removed]",
      "text/plain": [
       "<Figure size 432x288 with 1 Axes>"
      ]
     },
     "metadata": {
      "needs_background": "light"
     },
     "output_type": "display_data"
    }
   ],
   "source": [
    "plt.bar(df_monthlyAve['Month'],df_monthlyAve['Miles'])"
   ]
  },
  {
   "cell_type": "markdown",
   "metadata": {},
   "source": [
    "Running Total Miles"
   ]
  },
  {
   "cell_type": "code",
   "execution_count": 15,
   "metadata": {},
   "outputs": [
    {
     "name": "stdout",
     "output_type": "stream",
     "text": [
      "108\n",
      "108\n"
     ]
    },
    {
     "data": {
      "text/plain": [
       "Text(0, 0.5, 'Total Miles')"
      ]
     },
     "execution_count": 15,
     "metadata": {},
     "output_type": "execute_result"
    },
    {
     "data": {
      "image/png": "[encoded data removed]",
      "text/plain": [
       "<Figure size 432x288 with 1 Axes>"
      ]
     },
     "metadata": {
      "needs_background": "light"
     },
     "output_type": "display_data"
    }
   ],
   "source": [
    "running_total_miles = []\n",
    "running_total_miles_date = []\n",
    "start = 0\n",
    "\n",
    "for i in range(start,len(df_totalMiles)):\n",
    "    if df_totalMiles['Miles'][0:i].sum() != 0:\n",
    "        running_total_miles.append(df_totalMiles['Miles'][0:i].sum())\n",
    "        running_total_miles_date.append(df_totalMiles['Date'][i])\n",
    "\n",
    "print(len(running_total_miles))\n",
    "print(len(running_total_miles_date))\n",
    "df_running_total_miles = pd.DataFrame({'Date':running_total_miles_date,'Running_Total_Miles':running_total_miles})\n",
    "\n",
    "plt.plot(df_running_total_miles['Date'],(df_running_total_miles['Running_Total_Miles']/1))\n",
    "plt.title(\"Running Total Miles\")\n",
    "plt.xticks(rotation=90)\n",
    "plt.xticks(np.arange(0, len(df_running_total_miles), step=10))\n",
    "plt.ylabel(\"Total Miles\")"
   ]
  },
  {
   "cell_type": "markdown",
   "metadata": {},
   "source": [
    "Bar chart of Steps/Mile"
   ]
  },
  {
   "cell_type": "code",
   "execution_count": 16,
   "metadata": {
    "scrolled": true
   },
   "outputs": [
    {
     "data": {
      "image/png": "[encoded data removed]",
      "text/plain": [
       "<Figure size 432x288 with 1 Axes>"
      ]
     },
     "metadata": {
      "needs_background": "light"
     },
     "output_type": "display_data"
    }
   ],
   "source": [
    "plt.bar(df['Date'],df['Steps/Mile'])\n",
    "plt.title(\"Steps/Mile over Time\")\n",
    "plt.ylabel(\"Steps/Mile\")\n",
    "plt.xticks(np.arange(0, len(df_totalSteps), step=10), rotation=90)\n",
    "plt.xlabel(\"Time\");"
   ]
  },
  {
   "cell_type": "markdown",
   "metadata": {},
   "source": [
    "Scatter plot of steps per mile"
   ]
  },
  {
   "cell_type": "code",
   "execution_count": 17,
   "metadata": {
    "scrolled": true
   },
   "outputs": [
    {
     "data": {
      "image/png": "[encoded data removed]",
      "text/plain": [
       "<Figure size 432x288 with 1 Axes>"
      ]
     },
     "metadata": {
      "needs_background": "light"
     },
     "output_type": "display_data"
    }
   ],
   "source": [
    "plt.scatter(df['Miles'],df['TotalSteps'],color='red')\n",
    "plt.title(\"Steps Vs Miles\")\n",
    "plt.ylabel(\"Steps\")\n",
    "plt.xlabel(\"Miles\");"
   ]
  },
  {
   "cell_type": "markdown",
   "metadata": {},
   "source": [
    "Linear regression of steps/mile over time"
   ]
  },
  {
   "cell_type": "code",
   "execution_count": 18,
   "metadata": {},
   "outputs": [
    {
     "name": "stdout",
     "output_type": "stream",
     "text": [
      "Coefficient:  [[2874.97552314]]\n",
      "Intercept:  [80.17408737]\n"
     ]
    }
   ],
   "source": [
    "model = LinearRegression()\n",
    "train_x = np.asanyarray(df[['Miles']])\n",
    "train_y = np.asanyarray(df[['TotalSteps']])\n",
    "model.fit(train_x,train_y)\n",
    "\n",
    "print('Coefficient: ', model.coef_)\n",
    "print('Intercept: ', model.intercept_)"
   ]
  },
  {
   "cell_type": "code",
   "execution_count": 19,
   "metadata": {},
   "outputs": [
    {
     "data": {
      "text/plain": [
       "<matplotlib.legend.Legend at 0x267e5be2c50>"
      ]
     },
     "execution_count": 19,
     "metadata": {},
     "output_type": "execute_result"
    },
    {
     "data": {
      "image/png": "[encoded data removed]",
      "text/plain": [
       "<Figure size 432x288 with 1 Axes>"
      ]
     },
     "metadata": {
      "needs_background": "light"
     },
     "output_type": "display_data"
    }
   ],
   "source": [
    "plt.scatter(df['Miles'],df['TotalSteps'])\n",
    "plt.title(\"Total Steps Vs Miles\")\n",
    "plt.ylabel(\"Steps\")\n",
    "plt.xlabel(\"Miles\")\n",
    "\n",
    "coefficient = model.coef_[0][0]\n",
    "intercept = model.intercept_[0]\n",
    "\n",
    "linear_function = 'y = {0:0.2f}x + {1:0.2f}'.format(coefficient, intercept)\n",
    "plt.plot(train_x, model.coef_[0][0]*train_x + model.intercept_[0], '-r', label=linear_function)\n",
    "plt.legend(loc='upper left')"
   ]
  },
  {
   "cell_type": "markdown",
   "metadata": {},
   "source": [
    "Model Evaluation"
   ]
  },
  {
   "cell_type": "code",
   "execution_count": 20,
   "metadata": {},
   "outputs": [
    {
     "name": "stdout",
     "output_type": "stream",
     "text": [
      "Mean absolute error: 930.26\n",
      "Residual sum of squares (MSE): 2232739.65\n",
      "R2-score: 0.92\n"
     ]
    }
   ],
   "source": [
    "test_x = np.asanyarray(df[['Miles']])\n",
    "test_y = np.asanyarray(df[['TotalSteps']])\n",
    "test_y_hat = model.predict(test_x)\n",
    "\n",
    "print(\"Mean absolute error: %.2f\" % np.mean(np.absolute(test_y_hat - test_y)))\n",
    "print(\"Residual sum of squares (MSE): %.2f\" % np.mean((test_y_hat - test_y) ** 2))\n",
    "print(\"R2-score: %.2f\" % r2_score(test_y_hat, test_y))"
   ]
  },
  {
   "cell_type": "markdown",
   "metadata": {},
   "source": [
    "Miles Walked Vs. Weight Loss"
   ]
  },
  {
   "cell_type": "code",
   "execution_count": 21,
   "metadata": {},
   "outputs": [
    {
     "data": {
      "text/html": [
       "<div>\n",
       "<style scoped>\n",
       "    .dataframe tbody tr th:only-of-type {\n",
       "        vertical-align: middle;\n",
       "    }\n",
       "\n",
       "    .dataframe tbody tr th {\n",
       "        vertical-align: top;\n",
       "    }\n",
       "\n",
       "    .dataframe thead th {\n",
       "        text-align: right;\n",
       "    }\n",
       "</style>\n",
       "<table border=\"1\" class=\"dataframe\">\n",
       "  <thead>\n",
       "    <tr style=\"text-align: right;\">\n",
       "      <th></th>\n",
       "      <th>Date</th>\n",
       "      <th>Miles</th>\n",
       "      <th>Weight</th>\n",
       "    </tr>\n",
       "  </thead>\n",
       "  <tbody>\n",
       "    <tr>\n",
       "      <th>0</th>\n",
       "      <td>03/28/20</td>\n",
       "      <td>5</td>\n",
       "      <td>153.0</td>\n",
       "    </tr>\n",
       "    <tr>\n",
       "      <th>1</th>\n",
       "      <td>03/29/20</td>\n",
       "      <td>8</td>\n",
       "      <td>150.0</td>\n",
       "    </tr>\n",
       "    <tr>\n",
       "      <th>2</th>\n",
       "      <td>03/30/20</td>\n",
       "      <td>10</td>\n",
       "      <td>148.0</td>\n",
       "    </tr>\n",
       "    <tr>\n",
       "      <th>3</th>\n",
       "      <td>03/31/20</td>\n",
       "      <td>8</td>\n",
       "      <td>146.5</td>\n",
       "    </tr>\n",
       "    <tr>\n",
       "      <th>4</th>\n",
       "      <td>04/01/20</td>\n",
       "      <td>10</td>\n",
       "      <td>148.5</td>\n",
       "    </tr>\n",
       "    <tr>\n",
       "      <th>...</th>\n",
       "      <td>...</td>\n",
       "      <td>...</td>\n",
       "      <td>...</td>\n",
       "    </tr>\n",
       "    <tr>\n",
       "      <th>104</th>\n",
       "      <td>07/10/20</td>\n",
       "      <td>3</td>\n",
       "      <td>120.5</td>\n",
       "    </tr>\n",
       "    <tr>\n",
       "      <th>105</th>\n",
       "      <td>07/11/20</td>\n",
       "      <td>2</td>\n",
       "      <td>121.5</td>\n",
       "    </tr>\n",
       "    <tr>\n",
       "      <th>106</th>\n",
       "      <td>07/12/20</td>\n",
       "      <td>6</td>\n",
       "      <td>121.0</td>\n",
       "    </tr>\n",
       "    <tr>\n",
       "      <th>107</th>\n",
       "      <td>07/13/20</td>\n",
       "      <td>4</td>\n",
       "      <td>121.0</td>\n",
       "    </tr>\n",
       "    <tr>\n",
       "      <th>108</th>\n",
       "      <td>07/14/20</td>\n",
       "      <td>2</td>\n",
       "      <td>121.0</td>\n",
       "    </tr>\n",
       "  </tbody>\n",
       "</table>\n",
       "<p>109 rows × 3 columns</p>\n",
       "</div>"
      ],
      "text/plain": [
       "         Date  Miles  Weight\n",
       "0    03/28/20      5   153.0\n",
       "1    03/29/20      8   150.0\n",
       "2    03/30/20     10   148.0\n",
       "3    03/31/20      8   146.5\n",
       "4    04/01/20     10   148.5\n",
       "..        ...    ...     ...\n",
       "104  07/10/20      3   120.5\n",
       "105  07/11/20      2   121.5\n",
       "106  07/12/20      6   121.0\n",
       "107  07/13/20      4   121.0\n",
       "108  07/14/20      2   121.0\n",
       "\n",
       "[109 rows x 3 columns]"
      ]
     },
     "execution_count": 21,
     "metadata": {},
     "output_type": "execute_result"
    }
   ],
   "source": [
    "#df2 = df[0:80]\n",
    "df_miles_weight = df.groupby('Date', as_index=False)[['Miles','Weight']].sum()\n",
    "\n",
    "date = df_miles_weight['Date']\n",
    "miles = df_miles_weight['Miles']\n",
    "weight = df_miles_weight['Weight']\n",
    "\n",
    "df_miles_weight"
   ]
  },
  {
   "cell_type": "markdown",
   "metadata": {},
   "source": [
    "Line graph of weight over time"
   ]
  },
  {
   "cell_type": "code",
   "execution_count": 22,
   "metadata": {},
   "outputs": [
    {
     "data": {
      "image/png": "[encoded data removed]",
      "text/plain": [
       "<Figure size 432x288 with 1 Axes>"
      ]
     },
     "metadata": {
      "needs_background": "light"
     },
     "output_type": "display_data"
    }
   ],
   "source": [
    "weightData = df_miles_weight.iloc[-1][2]\n",
    "if weightData == 0.0:\n",
    "    a = len(df_miles_weight)-1\n",
    "else:\n",
    "    a = len(df_miles_weight)\n",
    "plt.plot(date[0:a],weight[0:a],'-g')\n",
    "plt.title(\"Weight Loss\")\n",
    "plt.ylabel(\"Weight\")\n",
    "plt.xlabel(\"Date\")\n",
    "plt.xticks(np.arange(0, len(df_totalSteps), step=5), rotation=90);"
   ]
  },
  {
   "cell_type": "markdown",
   "metadata": {},
   "source": [
    "## Linear Regression\n",
    "Regression analysis on the time and weight\n",
    "\n",
    "Will be predicting the weight after certain amount of days\n",
    "\n",
    "Will also be predicting the days required to get to a certain amount of weight"
   ]
  },
  {
   "cell_type": "code",
   "execution_count": 23,
   "metadata": {},
   "outputs": [
    {
     "name": "stdout",
     "output_type": "stream",
     "text": [
      "Weight after 30 days: 138.36\n",
      "Weight goal of 120 will be completed in 99 days on 2020-07-05\n"
     ]
    },
    {
     "data": {
      "image/png": "[encoded data removed]",
      "text/plain": [
       "<Figure size 432x288 with 1 Axes>"
      ]
     },
     "metadata": {
      "needs_background": "light"
     },
     "output_type": "display_data"
    }
   ],
   "source": [
    "from sklearn.model_selection import train_test_split\n",
    "\n",
    "weightData = df_miles_weight.iloc[-1][2]\n",
    "if weightData == 0.0:\n",
    "    a = len(df_miles_weight)-1\n",
    "else:\n",
    "    a = len(df_miles_weight)\n",
    "\n",
    "#a = 5\n",
    "model = LinearRegression()\n",
    "\n",
    "X = np.arange(0,a,1)\n",
    "X = X.reshape(a, -1)\n",
    "y = df_miles_weight['Weight'][0:a]\n",
    "\n",
    "X_train, X_test, y_train, y_test = train_test_split(X, y, test_size=0.1, random_state=42)\n",
    "\n",
    "model.fit(X_train,y_train)\n",
    "\n",
    "#print('Coefficient: ', model.coef_)\n",
    "#print('Intercept: ', model.intercept_)\n",
    "\n",
    "plt.plot(np.arange(0,a,1),weight[0:a],'-g')\n",
    "\n",
    "linear_function = 'y = {0:0.2f}x + {1:0.2f}'.format(model.coef_[0], model.intercept_)\n",
    "plt.plot(np.arange(0, a, 1), model.coef_[0]*np.arange(0, a, 1) + model.intercept_, '-r', label=linear_function)\n",
    "plt.title(\"Weight Loss\")\n",
    "plt.ylabel(\"Weight\")\n",
    "plt.xlabel(\"Number of Days from Start Date of 3/28/2020\")\n",
    "plt.xticks(np.arange(0, a, 5.0))\n",
    "plt.legend(loc='upper right');\n",
    "\n",
    "#Predicting the weight after a certain amount of days\n",
    "predTime = 30\n",
    "y_pred = model.coef_[0]*predTime + model.intercept_\n",
    "print(\"Weight after {0:0.0f} days: {1:0.2f}\".format(predTime,y_pred))\n",
    "\n",
    "#Predicting the date when the weight goal will be achieved\n",
    "weight_goal = 120\n",
    "x_pred = (weight_goal - model.intercept_)/(model.coef_[0])\n",
    "#newDate = np.datetime64(df_miles_weight['Date'][0]) + np.timedelta64(20, 'D')\n",
    "newDate = np.datetime64('2020-03-28') + np.timedelta64(int(x_pred), 'D')\n",
    "print(\"Weight goal of {0:0.0f} will be completed in {1:0.0f} days on\".format(weight_goal,x_pred),newDate)"
   ]
  },
  {
   "cell_type": "markdown",
   "metadata": {},
   "source": [
    "Linear regression evaluation metrics"
   ]
  },
  {
   "cell_type": "code",
   "execution_count": 24,
   "metadata": {},
   "outputs": [
    {
     "name": "stdout",
     "output_type": "stream",
     "text": [
      "Mean absolute error: 1.40\n",
      "Residual sum of squares (MSE): 2.52\n",
      "R2-score: 0.96\n"
     ]
    }
   ],
   "source": [
    "y_hat_test = model.predict(X_test)\n",
    "\n",
    "print(\"Mean absolute error: %.2f\" % np.mean(np.absolute(y_hat_test - y_test)))\n",
    "print(\"Residual sum of squares (MSE): %.2f\" % np.mean((y_hat_test - y_test) ** 2))\n",
    "print(\"R2-score: %.2f\" % r2_score(y_hat_test, y_test))"
   ]
  },
  {
   "cell_type": "markdown",
   "metadata": {},
   "source": [
    "Creating new dataframe with the changes in weight loss each day"
   ]
  },
  {
   "cell_type": "code",
   "execution_count": 25,
   "metadata": {},
   "outputs": [
    {
     "data": {
      "text/html": [
       "<div>\n",
       "<style scoped>\n",
       "    .dataframe tbody tr th:only-of-type {\n",
       "        vertical-align: middle;\n",
       "    }\n",
       "\n",
       "    .dataframe tbody tr th {\n",
       "        vertical-align: top;\n",
       "    }\n",
       "\n",
       "    .dataframe thead th {\n",
       "        text-align: right;\n",
       "    }\n",
       "</style>\n",
       "<table border=\"1\" class=\"dataframe\">\n",
       "  <thead>\n",
       "    <tr style=\"text-align: right;\">\n",
       "      <th></th>\n",
       "      <th>Date</th>\n",
       "      <th>Miles</th>\n",
       "      <th>Weight</th>\n",
       "      <th>Loss</th>\n",
       "    </tr>\n",
       "  </thead>\n",
       "  <tbody>\n",
       "    <tr>\n",
       "      <th>0</th>\n",
       "      <td>03/28/20</td>\n",
       "      <td>5</td>\n",
       "      <td>153.0</td>\n",
       "      <td>0.0</td>\n",
       "    </tr>\n",
       "    <tr>\n",
       "      <th>1</th>\n",
       "      <td>03/29/20</td>\n",
       "      <td>8</td>\n",
       "      <td>150.0</td>\n",
       "      <td>-3.0</td>\n",
       "    </tr>\n",
       "    <tr>\n",
       "      <th>2</th>\n",
       "      <td>03/30/20</td>\n",
       "      <td>10</td>\n",
       "      <td>148.0</td>\n",
       "      <td>-2.0</td>\n",
       "    </tr>\n",
       "    <tr>\n",
       "      <th>3</th>\n",
       "      <td>03/31/20</td>\n",
       "      <td>8</td>\n",
       "      <td>146.5</td>\n",
       "      <td>-1.5</td>\n",
       "    </tr>\n",
       "    <tr>\n",
       "      <th>4</th>\n",
       "      <td>04/01/20</td>\n",
       "      <td>10</td>\n",
       "      <td>148.5</td>\n",
       "      <td>2.0</td>\n",
       "    </tr>\n",
       "    <tr>\n",
       "      <th>...</th>\n",
       "      <td>...</td>\n",
       "      <td>...</td>\n",
       "      <td>...</td>\n",
       "      <td>...</td>\n",
       "    </tr>\n",
       "    <tr>\n",
       "      <th>104</th>\n",
       "      <td>07/10/20</td>\n",
       "      <td>3</td>\n",
       "      <td>120.5</td>\n",
       "      <td>0.5</td>\n",
       "    </tr>\n",
       "    <tr>\n",
       "      <th>105</th>\n",
       "      <td>07/11/20</td>\n",
       "      <td>2</td>\n",
       "      <td>121.5</td>\n",
       "      <td>1.0</td>\n",
       "    </tr>\n",
       "    <tr>\n",
       "      <th>106</th>\n",
       "      <td>07/12/20</td>\n",
       "      <td>6</td>\n",
       "      <td>121.0</td>\n",
       "      <td>-0.5</td>\n",
       "    </tr>\n",
       "    <tr>\n",
       "      <th>107</th>\n",
       "      <td>07/13/20</td>\n",
       "      <td>4</td>\n",
       "      <td>121.0</td>\n",
       "      <td>0.0</td>\n",
       "    </tr>\n",
       "    <tr>\n",
       "      <th>108</th>\n",
       "      <td>07/14/20</td>\n",
       "      <td>2</td>\n",
       "      <td>121.0</td>\n",
       "      <td>0.0</td>\n",
       "    </tr>\n",
       "  </tbody>\n",
       "</table>\n",
       "<p>109 rows × 4 columns</p>\n",
       "</div>"
      ],
      "text/plain": [
       "         Date  Miles  Weight  Loss\n",
       "0    03/28/20      5   153.0   0.0\n",
       "1    03/29/20      8   150.0  -3.0\n",
       "2    03/30/20     10   148.0  -2.0\n",
       "3    03/31/20      8   146.5  -1.5\n",
       "4    04/01/20     10   148.5   2.0\n",
       "..        ...    ...     ...   ...\n",
       "104  07/10/20      3   120.5   0.5\n",
       "105  07/11/20      2   121.5   1.0\n",
       "106  07/12/20      6   121.0  -0.5\n",
       "107  07/13/20      4   121.0   0.0\n",
       "108  07/14/20      2   121.0   0.0\n",
       "\n",
       "[109 rows x 4 columns]"
      ]
     },
     "execution_count": 25,
     "metadata": {},
     "output_type": "execute_result"
    }
   ],
   "source": [
    "df_loss = df.groupby('Date', as_index=False)[['Miles','Weight']].sum()\n",
    "\n",
    "loss = [0]\n",
    "for i in range(1,len(df_loss),1):\n",
    "    j = i-1\n",
    "    loss.append(df_loss['Weight'][i]-df_loss['Weight'][j])\n",
    "\n",
    "df_loss['Loss'] = loss\n",
    "df_loss"
   ]
  },
  {
   "cell_type": "markdown",
   "metadata": {},
   "source": [
    "Regression on miles walked vs weight loss"
   ]
  },
  {
   "cell_type": "code",
   "execution_count": 26,
   "metadata": {},
   "outputs": [
    {
     "name": "stdout",
     "output_type": "stream",
     "text": [
      "Coefficient:  [[-0.09538462]]\n",
      "Intercept:  [0.03296703]\n"
     ]
    },
    {
     "data": {
      "text/plain": [
       "Text(0, 0.5, 'Weight Loss (lbs)')"
      ]
     },
     "execution_count": 26,
     "metadata": {},
     "output_type": "execute_result"
    },
    {
     "data": {
      "image/png": "[encoded data removed]",
      "text/plain": [
       "<Figure size 432x288 with 1 Axes>"
      ]
     },
     "metadata": {
      "needs_background": "light"
     },
     "output_type": "display_data"
    }
   ],
   "source": [
    "from sklearn.model_selection import train_test_split\n",
    "import numpy as np\n",
    "\n",
    "X = df_loss[['Miles']]\n",
    "y = df_loss[['Loss']]\n",
    "\n",
    "X_train, X_test, y_train, y_test = train_test_split(X, y, test_size=0.8, random_state=42)\n",
    "\n",
    "model.fit(X_train,y_train)\n",
    "\n",
    "print('Coefficient: ', model.coef_)\n",
    "print('Intercept: ', model.intercept_)\n",
    "\n",
    "coefficient = model.coef_[0][0]\n",
    "intercept = model.intercept_[0]\n",
    "\n",
    "x_for_line = np.arange(0, 30, 1)\n",
    "\n",
    "linear_function = 'y = {0:0.2f}x + {1:0.2f}'.format(coefficient, intercept)\n",
    "plt.plot(x_for_line, model.coef_[0][0]*x_for_line + model.intercept_[0], '-r', label=linear_function)\n",
    "plt.legend(loc='upper left')\n",
    "\n",
    "plt.scatter(df_loss['Miles'],df_loss['Loss'])\n",
    "plt.title(\"Miles vs Weight Loss\")\n",
    "plt.xlabel(\"Miles\")\n",
    "plt.ylabel(\"Weight Loss (lbs)\")"
   ]
  },
  {
   "cell_type": "markdown",
   "metadata": {},
   "source": [
    "No clear linear relationship between the amount of miles walked and the amount of weight loss"
   ]
  },
  {
   "cell_type": "code",
   "execution_count": null,
   "metadata": {},
   "outputs": [],
   "source": []
  }
 ],
 "metadata": {
  "kernelspec": {
   "display_name": "Python 3",
   "language": "python",
   "name": "python3"
  },
  "language_info": {
   "codemirror_mode": {
    "name": "ipython",
    "version": 3
   },
   "file_extension": ".py",
   "mimetype": "text/x-python",
   "name": "python",
   "nbconvert_exporter": "python",
   "pygments_lexer": "ipython3",
   "version": "3.7.3"
  }
 },
 "nbformat": 4,
 "nbformat_minor": 4
}
